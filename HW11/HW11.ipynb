{
 "cells": [
  {
   "cell_type": "code",
   "execution_count": 30,
   "metadata": {},
   "outputs": [],
   "source": [
    "from queue import Queue\n",
    "\n",
    "def floodFill(self, image, sr, sc, color):\n",
    "    # Check to ensure not filling the same color\n",
    "    if image[sr][sc] == color:\n",
    "        return image\n",
    "    \n",
    "    # Breadth first search\n",
    "    neighborQueue = Queue()\n",
    "    neighborQueue.put([sr, sc])\n",
    "    visited = [[sr, sc]]\n",
    "    startPointColor = image[sr][sc]\n",
    "    imageRowLength = len(image)\n",
    "    imageColumnLength = len(image[sr])\n",
    "    \n",
    "    while not neighborQueue.empty():\n",
    "        currentPixel = neighborQueue.get()\n",
    "        image[currentPixel[0]][currentPixel[1]] = color\n",
    "        # check up\n",
    "        # make sure it doesn't go outside of the range\n",
    "        upPixel = currentPixel.copy()\n",
    "        upPixel[1] += -1\n",
    "        if upPixel[1] >= 0 and image[upPixel[0]][upPixel[1]] == startPointColor and not upPixel in visited:\n",
    "            visited.append(upPixel)\n",
    "            neighborQueue.put(upPixel)\n",
    "            \n",
    "        downPixel = currentPixel.copy()\n",
    "        downPixel[1] += 1\n",
    "        if downPixel[1] < imageColumnLength and image[downPixel[0]][downPixel[1]] == startPointColor and not downPixel in visited:\n",
    "            visited.append(downPixel)\n",
    "            neighborQueue.put(downPixel)\n",
    "            \n",
    "        leftPixel = currentPixel.copy()\n",
    "        leftPixel[0] += -1\n",
    "        if leftPixel[0] >= 0 and image[leftPixel[0]][leftPixel[1]] == startPointColor and not leftPixel in visited:\n",
    "            visited.append(leftPixel)\n",
    "            neighborQueue.put(leftPixel)\n",
    "            \n",
    "        rightPixel = currentPixel.copy()\n",
    "        rightPixel[0] += 1\n",
    "        if rightPixel[0] < imageRowLength and image[rightPixel[0]][rightPixel[1]] == startPointColor and not rightPixel in visited:\n",
    "            visited.append(rightPixel)\n",
    "            neighborQueue.put(rightPixel)\n",
    "            \n",
    "    return image\n",
    "    \n",
    "    "
   ]
  },
  {
   "cell_type": "code",
   "execution_count": 31,
   "metadata": {},
   "outputs": [
    {
     "name": "stdout",
     "output_type": "stream",
     "text": [
      "[[2, 2, 2], [2, 2, 0], [2, 0, 1]]\n"
     ]
    }
   ],
   "source": [
    "image = [[1, 1, 1],\n",
    "         [1, 1, 0],\n",
    "         [1, 0, 1]]\n",
    "sr = 1\n",
    "sc = 1\n",
    "color = 2\n",
    "floodFill(image, image, sr, sc, color)\n",
    "print(image)"
   ]
  },
  {
   "cell_type": "code",
   "execution_count": 32,
   "metadata": {},
   "outputs": [
    {
     "name": "stdout",
     "output_type": "stream",
     "text": [
      "[[0, 0, 0], [0, 0, 0]]\n"
     ]
    }
   ],
   "source": [
    "image = [[0,0,0],\n",
    "         [0,0,0]]\n",
    "sr = 0\n",
    "sc = 0\n",
    "color = 0\n",
    "floodFill(image, image, sr, sc, color)\n",
    "print(image)"
   ]
  },
  {
   "cell_type": "code",
   "execution_count": null,
   "metadata": {},
   "outputs": [],
   "source": []
  }
 ],
 "metadata": {
  "kernelspec": {
   "display_name": "Python 3",
   "language": "python",
   "name": "python3"
  },
  "language_info": {
   "codemirror_mode": {
    "name": "ipython",
    "version": 3
   },
   "file_extension": ".py",
   "mimetype": "text/x-python",
   "name": "python",
   "nbconvert_exporter": "python",
   "pygments_lexer": "ipython3",
   "version": "3.7.6"
  }
 },
 "nbformat": 4,
 "nbformat_minor": 4
}
