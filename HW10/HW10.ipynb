{
 "cells": [
  {
   "cell_type": "code",
   "execution_count": 13,
   "metadata": {},
   "outputs": [],
   "source": [
    "from queue import Queue\n",
    "from typing import Optional\n",
    "from typing import List\n",
    "\n",
    "class TreeNode(object):\n",
    "     def __init__(self, val=0, left=None, right=None):\n",
    "         self.val = val\n",
    "         self.left = left\n",
    "         self.right = right\n",
    "        \n",
    "        \n",
    "def levelOrder(self, root: Optional[TreeNode]) -> List[List[int]]:\n",
    "    levels = []\n",
    "    nodeQueue = Queue()\n",
    "    \n",
    "    if root != None:\n",
    "        nodeQueue.put(self)\n",
    "    else:\n",
    "        return None\n",
    "        \n",
    "    while not nodeQueue.empty():\n",
    "        levelList = []\n",
    "        levelSize = nodeQueue.qsize()\n",
    "        \n",
    "        for i in range(levelSize):\n",
    "            currentNode = nodeQueue.get()\n",
    "            levelList.append(currentNode.val)\n",
    "            if currentNode.left != None:\n",
    "                nodeQueue.put(currentNode.left)  \n",
    "            if currentNode.right != None:\n",
    "                nodeQueue.put(currentNode.right)\n",
    "            \n",
    "        levels.append(levelList)\n",
    "    \n",
    "    return levels\n",
    "    "
   ]
  },
  {
   "cell_type": "code",
   "execution_count": 14,
   "metadata": {},
   "outputs": [],
   "source": [
    "root = TreeNode(val=4)\n",
    "nodeOne = TreeNode(val=1)\n",
    "nodeThree = TreeNode(val=3)\n",
    "nodeEight = TreeNode(val=8)\n",
    "nodeFive = TreeNode(val=5)\n",
    "nodeNine = TreeNode(val=9)\n",
    "root.left = nodeThree\n",
    "root.right = nodeEight\n",
    "nodeThree.left = nodeOne\n",
    "nodeEight.left = nodeFive\n",
    "nodeEight.right = nodeNine\n",
    "#    4\n",
    "#  3   8\n",
    "#1  x 5 9"
   ]
  },
  {
   "cell_type": "code",
   "execution_count": 15,
   "metadata": {},
   "outputs": [],
   "source": [
    "levels = levelOrder(root, root)"
   ]
  },
  {
   "cell_type": "code",
   "execution_count": 16,
   "metadata": {},
   "outputs": [
    {
     "name": "stdout",
     "output_type": "stream",
     "text": [
      "4  \n",
      "3  8  \n",
      "1  5  9  \n"
     ]
    }
   ],
   "source": [
    "for row in levels:\n",
    "    for number in row:\n",
    "        print(number, \" \", end='')\n",
    "    print()\n",
    "        \n",
    "    "
   ]
  },
  {
   "cell_type": "code",
   "execution_count": 17,
   "metadata": {},
   "outputs": [],
   "source": [
    "emptyLevels = levelOrder(None, None)"
   ]
  },
  {
   "cell_type": "code",
   "execution_count": 18,
   "metadata": {},
   "outputs": [
    {
     "name": "stdout",
     "output_type": "stream",
     "text": [
      "None\n"
     ]
    }
   ],
   "source": [
    "print(emptyLevels)"
   ]
  },
  {
   "cell_type": "code",
   "execution_count": null,
   "metadata": {},
   "outputs": [],
   "source": [
    "# Test case below\n",
    "#    4\n",
    "#  2   6\n",
    "#1  3 5  8\n",
    "nodeOne = TreeNode(1)\n",
    "nodeTwo = TreeNode(2)\n",
    "nodeThree = TreeNode(3)\n",
    "nodeFour = TreeNode(4)\n",
    "nodeFive = TreeNode(5)\n",
    "nodeSix = TreeNode(6)\n",
    "nodeEight = TreeNode(8)\n",
    "nodeFour.left = nodeTwo\n",
    "nodeTwo.left = nodeOne\n",
    "nodeTwo.right = nodeThree\n",
    "nodeFour.right = nodeSix\n",
    "nodeSix.left = nodeFive\n",
    "nodeSix.right = nodeEight\n"
   ]
  }
 ],
 "metadata": {
  "kernelspec": {
   "display_name": "Python 3",
   "language": "python",
   "name": "python3"
  },
  "language_info": {
   "codemirror_mode": {
    "name": "ipython",
    "version": 3
   },
   "file_extension": ".py",
   "mimetype": "text/x-python",
   "name": "python",
   "nbconvert_exporter": "python",
   "pygments_lexer": "ipython3",
   "version": "3.7.6"
  }
 },
 "nbformat": 4,
 "nbformat_minor": 4
}
