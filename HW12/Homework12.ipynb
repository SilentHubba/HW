{
 "cells": [
  {
   "cell_type": "code",
   "execution_count": 2,
   "metadata": {},
   "outputs": [],
   "source": [
    "from typing import List\n",
    "import heapq"
   ]
  },
  {
   "cell_type": "code",
   "execution_count": 7,
   "metadata": {},
   "outputs": [],
   "source": [
    "def minCostToSupplyWater(self, n: int, wells: List[int], pipes: List[List[int]]) -> int:\n",
    "    # Node 0 is the cirtual node that represents the cost to build a well rather than a pipe. Start from node 0.\n",
    "    # Build a graph. Then run MST from node 0.\n",
    "    houses = [[float(\"inf\")]*(n+1) for x in range(n + 1)]\n",
    "    \n",
    "    # Fill the 0th row with wells\n",
    "    for i in range(1, n + 1):\n",
    "        houses[0][i] = wells[i - 1]\n",
    "        houses[i][0] = wells[i - 1]\n",
    "    \n",
    "    for i in range(len(pipes)):\n",
    "        # Compare the two costs of connecting the pipes. If the new cost is less, replace the old cost with the lower cost\n",
    "        if houses[pipes[i][0]][pipes[i][1]] > pipes[i][2]:    \n",
    "            houses[pipes[i][0]][pipes[i][1]] = pipes[i][2]\n",
    "            houses[pipes[i][1]][pipes[i][0]] = pipes[i][2]\n",
    "    \n",
    "    # Fill the heap with possible edges to take\n",
    "    visited = []\n",
    "    visited.append(0)\n",
    "    edgeHeap = []\n",
    "    for i in range(1, n + 1):\n",
    "        heapq.heappush(edgeHeap, (houses[0][i], i))\n",
    "    \n",
    "    cost = 0\n",
    "    \n",
    "    # Loop through the edge heap until all nodes have been connected in the MST\n",
    "    while len(edgeHeap) > 0 and len(visited) < n + 1:\n",
    "        currEdge = heapq.heappop(edgeHeap)\n",
    "        if not currEdge[1] in visited:\n",
    "            cost += currEdge[0]\n",
    "            visited.append(currEdge[1])\n",
    "            # Add all the pipe options from the new house\n",
    "            for i in range(1, n + 1):\n",
    "                if houses[currEdge[1]][i] != float(\"inf\"):\n",
    "                    heapq.heappush(edgeHeap, (houses[currEdge[1]][i], i))\n",
    "                    \n",
    "    return cost\n",
    "        \n"
   ]
  },
  {
   "cell_type": "code",
   "execution_count": 9,
   "metadata": {},
   "outputs": [
    {
     "data": {
      "text/plain": [
       "2"
      ]
     },
     "execution_count": 9,
     "metadata": {},
     "output_type": "execute_result"
    }
   ],
   "source": [
    "n = 2\n",
    "wells = [1, 1]\n",
    "pipes = [[1, 2, 1], [1, 2, 2]]\n",
    "minCostToSupplyWater(n, n, wells, pipes)"
   ]
  },
  {
   "cell_type": "code",
   "execution_count": 10,
   "metadata": {},
   "outputs": [
    {
     "data": {
      "text/plain": [
       "4"
      ]
     },
     "execution_count": 10,
     "metadata": {},
     "output_type": "execute_result"
    }
   ],
   "source": [
    "n = 3\n",
    "wells = [1, 1, 4]\n",
    "pipes = [[1, 2, 1], [1, 2, 2], [1, 3, 2]]\n",
    "minCostToSupplyWater(n, n, wells, pipes)"
   ]
  },
  {
   "cell_type": "code",
   "execution_count": 8,
   "metadata": {},
   "outputs": [
    {
     "data": {
      "text/plain": [
       "1"
      ]
     },
     "execution_count": 8,
     "metadata": {},
     "output_type": "execute_result"
    }
   ],
   "source": [
    "n = 1\n",
    "wells = [1]\n",
    "pipes = []\n",
    "minCostToSupplyWater(n, n, wells, pipes)"
   ]
  },
  {
   "cell_type": "code",
   "execution_count": null,
   "metadata": {},
   "outputs": [],
   "source": []
  }
 ],
 "metadata": {
  "kernelspec": {
   "display_name": "Python 3",
   "language": "python",
   "name": "python3"
  },
  "language_info": {
   "codemirror_mode": {
    "name": "ipython",
    "version": 3
   },
   "file_extension": ".py",
   "mimetype": "text/x-python",
   "name": "python",
   "nbconvert_exporter": "python",
   "pygments_lexer": "ipython3",
   "version": "3.7.6"
  }
 },
 "nbformat": 4,
 "nbformat_minor": 4
}
