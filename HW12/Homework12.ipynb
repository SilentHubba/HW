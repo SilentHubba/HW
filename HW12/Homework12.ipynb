{
 "cells": [
  {
   "cell_type": "code",
   "execution_count": 27,
   "metadata": {},
   "outputs": [],
   "source": [
    "from typing import List\n",
    "import heapq"
   ]
  },
  {
   "cell_type": "code",
   "execution_count": 44,
   "metadata": {},
   "outputs": [],
   "source": [
    "def minCostToSupplyWater(self, n: int, wells: List[int], pipes: List[List[int]]) -> int:\n",
    "    # Node 0 is the cirtual node that represents the cost to build a well rather than a pipe. Start from node 0.\n",
    "    # Build a graph. Then run MST from node 0.\n",
    "    houses = [[float(\"inf\")]*(n+1) for x in range(n + 1)]\n",
    "    \n",
    "    # Fill the 0th row with wells\n",
    "    for i in range(1, n + 1):\n",
    "        print(i)\n",
    "        houses[0][i] = wells[i - 1]\n",
    "        houses[i][0] = wells[i - 1]\n",
    "    \n",
    "    for i in range(len(pipes)):\n",
    "        # Compare the two costs of connecting the pipes. If the new cost is less, replace the old cost with the lower cost\n",
    "        if houses[pipes[i][0]][pipes[i][1]] > pipes[i][2]:    \n",
    "            houses[pipes[i][0]][pipes[i][1]] = pipes[i][2]\n",
    "            houses[pipes[i][1]][pipes[i][0]] = pipes[i][2]\n",
    "    print(houses)\n",
    "    \n",
    "    visited = []\n",
    "    visited.append(0)\n",
    "    edgeHeap = []\n",
    "    for i in range(1, n + 1):\n",
    "        heapq.heappush(edgeHeap, (houses[0][i], i))\n",
    "    \n",
    "    cost = 0\n",
    "    \n",
    "    while len(edgeHeap) > 0 and len(visited) < n + 1:\n",
    "        currEdge = heapq.heappop(edgeHeap)\n",
    "        if not currEdge[1] in visited:\n",
    "            cost += currEdge[0]\n",
    "            visited.append(currEdge[1])\n",
    "            # Add all the pipe options from the new house\n",
    "            for i in range(1, n + 1):\n",
    "                if houses[currEdge[1]][i] != float(\"inf\"):\n",
    "                    heapq.heappush(edgeHeap, (houses[currEdge[1]][i], i))\n",
    "                    \n",
    "    return cost\n",
    "        \n"
   ]
  },
  {
   "cell_type": "code",
   "execution_count": 45,
   "metadata": {},
   "outputs": [
    {
     "name": "stdout",
     "output_type": "stream",
     "text": [
      "1\n",
      "2\n",
      "[[inf, 1, 1], [1, inf, 1], [1, 1, inf]]\n"
     ]
    },
    {
     "data": {
      "text/plain": [
       "2"
      ]
     },
     "execution_count": 45,
     "metadata": {},
     "output_type": "execute_result"
    }
   ],
   "source": [
    "n = 2\n",
    "wells = [1, 1]\n",
    "pipes = [[1, 2, 1], [1, 2, 2]]\n",
    "minCostToSupplyWater(n, n, wells, pipes)"
   ]
  },
  {
   "cell_type": "code",
   "execution_count": 46,
   "metadata": {},
   "outputs": [
    {
     "name": "stdout",
     "output_type": "stream",
     "text": [
      "1\n",
      "2\n",
      "3\n",
      "[[inf, 1, 1, 4], [1, inf, 1, 2], [1, 1, inf, inf], [4, 2, inf, inf]]\n"
     ]
    },
    {
     "data": {
      "text/plain": [
       "4"
      ]
     },
     "execution_count": 46,
     "metadata": {},
     "output_type": "execute_result"
    }
   ],
   "source": [
    "n = 3\n",
    "wells = [1, 1, 4]\n",
    "pipes = [[1, 2, 1], [1, 2, 2], [1, 3, 2]]\n",
    "minCostToSupplyWater(n, n, wells, pipes)"
   ]
  },
  {
   "cell_type": "code",
   "execution_count": null,
   "metadata": {},
   "outputs": [],
   "source": []
  }
 ],
 "metadata": {
  "kernelspec": {
   "display_name": "Python 3",
   "language": "python",
   "name": "python3"
  },
  "language_info": {
   "codemirror_mode": {
    "name": "ipython",
    "version": 3
   },
   "file_extension": ".py",
   "mimetype": "text/x-python",
   "name": "python",
   "nbconvert_exporter": "python",
   "pygments_lexer": "ipython3",
   "version": "3.7.6"
  }
 },
 "nbformat": 4,
 "nbformat_minor": 4
}
