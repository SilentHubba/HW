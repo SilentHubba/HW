{
 "cells": [
  {
   "cell_type": "code",
   "execution_count": 2,
   "metadata": {},
   "outputs": [],
   "source": [
    "from typing import List"
   ]
  },
  {
   "cell_type": "code",
   "execution_count": 34,
   "metadata": {},
   "outputs": [],
   "source": [
    "class SumFinder:\n",
    "    def threeSum(self, nums: List[int]) -> List[List[int]]:\n",
    "        #Your code here\n",
    "        sums = []\n",
    "        # sort the list. then,\n",
    "        # loop through the combinations of pairs of two and use binary search to attempt to find the final value\n",
    "        sortedList = nums.copy()\n",
    "        sortedList.sort()\n",
    "\n",
    "        # loop through all pairs on numbers\n",
    "        for i in range(len(sortedList)):\n",
    "            for j in range(i + 1, len(sortedList)):\n",
    "                # Calculate the answer to look for with binary search\n",
    "                answer = -(sortedList[i] + sortedList[j])\n",
    "                # binary search\n",
    "                lower = 0\n",
    "                upper = len(sortedList) - 1\n",
    "                mid = lower + (upper - lower) // 2\n",
    "                while(lower <= upper):\n",
    "                    mid = lower + (upper - lower) // 2\n",
    "                    if sortedList[mid] == answer:\n",
    "                        # If found, check to make sure it's not already in the solutions\n",
    "                        if not (mid == i or mid == j):\n",
    "                            triplet = [sortedList[i], sortedList[j], sortedList[mid]]\n",
    "                            triplet.sort() # constant because it's always length 3\n",
    "                            if triplet not in sums:\n",
    "                                sums.append(triplet)\n",
    "                        break\n",
    "                    elif sortedList[mid] < answer:\n",
    "                        lower = mid + 1\n",
    "                    else:\n",
    "                        upper = mid - 1\n",
    "\n",
    "        return sums\n",
    "    "
   ]
  },
  {
   "cell_type": "code",
   "execution_count": 35,
   "metadata": {},
   "outputs": [
    {
     "name": "stdout",
     "output_type": "stream",
     "text": [
      "[]\n",
      "[[-10, 0, 10], [-5, 0, 5]]\n"
     ]
    }
   ],
   "source": [
    "tester = SumFinder()\n",
    "nums = [0,1,1]\n",
    "print(tester.threeSum(nums))\n",
    "# Expected: []\n",
    "\n",
    "nums = [-5,0,5,10,-10,0] \n",
    "# Output: [[-10,0,10],[-5,0,5]] \n",
    "print(tester.threeSum(nums))"
   ]
  },
  {
   "cell_type": "code",
   "execution_count": null,
   "metadata": {},
   "outputs": [],
   "source": []
  }
 ],
 "metadata": {
  "kernelspec": {
   "display_name": "Python 3",
   "language": "python",
   "name": "python3"
  },
  "language_info": {
   "codemirror_mode": {
    "name": "ipython",
    "version": 3
   },
   "file_extension": ".py",
   "mimetype": "text/x-python",
   "name": "python",
   "nbconvert_exporter": "python",
   "pygments_lexer": "ipython3",
   "version": "3.7.6"
  }
 },
 "nbformat": 4,
 "nbformat_minor": 4
}
