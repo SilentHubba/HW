{
 "cells": [
  {
   "cell_type": "code",
   "execution_count": 33,
   "metadata": {},
   "outputs": [],
   "source": [
    "class TreeNode(object):\n",
    "    def __init__(self, val=0, left=None, right=None):\n",
    "        self.val = val\n",
    "        self.left = left\n",
    "        self.right = right\n",
    "       \n",
    "    \n",
    "def lowestCommonAncestor(self, root:'TreeNode', p:'TreeNode', q:'TreeNode') -> 'TreeNode':\n",
    "    # If both p and q are on the right of the root, move to the right child because the least common\n",
    "    # ancestor must be on the right\n",
    "    if p.val > root.val and q.val > root.val:\n",
    "        return lowestCommonAncestor(root.right, root.right, p, q)\n",
    "    \n",
    "    # If both p and q are on the left of the root, move to the left child because the least common\n",
    "    # ancestor must be on the left\n",
    "    if p.val < root.val and q.val < root.val:\n",
    "        return lowestCommonAncestor(root.left, root.left, p, q)\n",
    "        \n",
    "    # If neither are true, than the least common ancestor must be the current node\n",
    "    return root\n"
   ]
  },
  {
   "cell_type": "code",
   "execution_count": 34,
   "metadata": {},
   "outputs": [],
   "source": [
    "root = TreeNode(val=4)\n",
    "nodeOne = TreeNode(val=1)\n",
    "nodeThree = TreeNode(val=3)\n",
    "nodeEight = TreeNode(val=8)\n",
    "nodeFive = TreeNode(val=5)\n",
    "nodeNine = TreeNode(val=9)\n",
    "root.left = nodeThree\n",
    "root.right = nodeEight\n",
    "nodeThree.left = nodeOne\n",
    "nodeEight.left = nodeFive\n",
    "nodeEight.right = nodeNine"
   ]
  },
  {
   "cell_type": "code",
   "execution_count": 35,
   "metadata": {},
   "outputs": [],
   "source": [
    "output = lowestCommonAncestor(root, root, nodeOne, nodeThree)"
   ]
  },
  {
   "cell_type": "code",
   "execution_count": 36,
   "metadata": {},
   "outputs": [
    {
     "name": "stdout",
     "output_type": "stream",
     "text": [
      "3\n"
     ]
    }
   ],
   "source": [
    "print(output.val)"
   ]
  },
  {
   "cell_type": "code",
   "execution_count": 37,
   "metadata": {},
   "outputs": [],
   "source": [
    "output2 = lowestCommonAncestor(root, root, nodeOne, nodeFive)"
   ]
  },
  {
   "cell_type": "code",
   "execution_count": 38,
   "metadata": {},
   "outputs": [
    {
     "name": "stdout",
     "output_type": "stream",
     "text": [
      "4\n"
     ]
    }
   ],
   "source": [
    "print(output2.val)"
   ]
  },
  {
   "cell_type": "code",
   "execution_count": 39,
   "metadata": {},
   "outputs": [],
   "source": [
    "# Test case below\n",
    "#    4\n",
    "#  2   6\n",
    "#1  3 5  8\n",
    "nodeOne = TreeNode(1)\n",
    "nodeTwo = TreeNode(2)\n",
    "nodeThree = TreeNode(3)\n",
    "nodeFour = TreeNode(4)\n",
    "nodeFive = TreeNode(5)\n",
    "nodeSix = TreeNode(6)\n",
    "nodeEight = TreeNode(8)\n",
    "nodeFour.left = nodeTwo\n",
    "nodeTwo.left = nodeOne\n",
    "nodeTwo.right = nodeThree\n",
    "nodeFour.right = nodeSix\n",
    "nodeSix.left = nodeFive\n",
    "nodeSix.right = nodeEight"
   ]
  },
  {
   "cell_type": "code",
   "execution_count": 40,
   "metadata": {},
   "outputs": [
    {
     "name": "stdout",
     "output_type": "stream",
     "text": [
      "4\n"
     ]
    }
   ],
   "source": [
    "print(lowestCommonAncestor(nodeFour, nodeFour, nodeOne, nodeEight).val)"
   ]
  },
  {
   "cell_type": "code",
   "execution_count": 41,
   "metadata": {},
   "outputs": [
    {
     "name": "stdout",
     "output_type": "stream",
     "text": [
      "2\n"
     ]
    }
   ],
   "source": [
    "print(lowestCommonAncestor(nodeFour, nodeFour, nodeThree, nodeTwo).val)"
   ]
  },
  {
   "cell_type": "code",
   "execution_count": 42,
   "metadata": {},
   "outputs": [
    {
     "name": "stdout",
     "output_type": "stream",
     "text": [
      "2\n"
     ]
    }
   ],
   "source": [
    "print(lowestCommonAncestor(nodeFour, nodeFour, nodeTwo, nodeThree).val)"
   ]
  },
  {
   "cell_type": "code",
   "execution_count": 43,
   "metadata": {},
   "outputs": [
    {
     "name": "stdout",
     "output_type": "stream",
     "text": [
      "6\n"
     ]
    }
   ],
   "source": [
    "print(lowestCommonAncestor(nodeFour, nodeFour, nodeFive, nodeEight).val)"
   ]
  },
  {
   "cell_type": "code",
   "execution_count": 44,
   "metadata": {},
   "outputs": [
    {
     "name": "stdout",
     "output_type": "stream",
     "text": [
      "6\n"
     ]
    }
   ],
   "source": [
    "print(lowestCommonAncestor(nodeFour, nodeFour, nodeEight, nodeSix).val)"
   ]
  },
  {
   "cell_type": "code",
   "execution_count": 45,
   "metadata": {},
   "outputs": [
    {
     "name": "stdout",
     "output_type": "stream",
     "text": [
      "4\n"
     ]
    }
   ],
   "source": [
    "print(lowestCommonAncestor(nodeFour, nodeFour, nodeFour, nodeThree).val)"
   ]
  },
  {
   "cell_type": "code",
   "execution_count": 46,
   "metadata": {},
   "outputs": [
    {
     "name": "stdout",
     "output_type": "stream",
     "text": [
      "4\n"
     ]
    }
   ],
   "source": [
    "print(lowestCommonAncestor(nodeFour, nodeFour, nodeFour, nodeSix).val)"
   ]
  },
  {
   "cell_type": "code",
   "execution_count": null,
   "metadata": {},
   "outputs": [],
   "source": []
  }
 ],
 "metadata": {
  "kernelspec": {
   "display_name": "Python 3",
   "language": "python",
   "name": "python3"
  },
  "language_info": {
   "codemirror_mode": {
    "name": "ipython",
    "version": 3
   },
   "file_extension": ".py",
   "mimetype": "text/x-python",
   "name": "python",
   "nbconvert_exporter": "python",
   "pygments_lexer": "ipython3",
   "version": "3.7.6"
  }
 },
 "nbformat": 4,
 "nbformat_minor": 4
}
