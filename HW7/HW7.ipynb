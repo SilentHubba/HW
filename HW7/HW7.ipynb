{
 "cells": [
  {
   "cell_type": "code",
   "execution_count": 3,
   "metadata": {},
   "outputs": [],
   "source": [
    "from typing import List\n",
    "import heapq"
   ]
  },
  {
   "cell_type": "code",
   "execution_count": 12,
   "metadata": {},
   "outputs": [],
   "source": [
    "class MeetingRooms:\n",
    "    def minMeetingRooms(self, intervals: List[List[int]]) -> int:  \n",
    "        # sort based on start time\n",
    "        intervals.sort(key=lambda x: x[0])\n",
    "        \n",
    "        # Min heap of earliest end times\n",
    "        minHeapEndTime = []\n",
    "        roomCount = 0\n",
    "        \n",
    "        # Compare the start time to the earliest end time\n",
    "        for interval in intervals:\n",
    "            heapq.heappush(minHeapEndTime, interval[1])\n",
    "            if minHeapEndTime[0] <= interval[0]:\n",
    "                # Can add the interval to an existing room\n",
    "                heapq.heappop(minHeapEndTime)\n",
    "            else:\n",
    "                # Cannot add the interval to an existing room\n",
    "                roomCount += 1\n",
    "                \n",
    "        return roomCount"
   ]
  },
  {
   "cell_type": "code",
   "execution_count": 13,
   "metadata": {},
   "outputs": [
    {
     "name": "stdout",
     "output_type": "stream",
     "text": [
      "2\n"
     ]
    }
   ],
   "source": [
    "rooms = MeetingRooms()\n",
    "intervals = [[0,30],[5,10],[15,20]] \n",
    "print(rooms.minMeetingRooms(intervals))"
   ]
  },
  {
   "cell_type": "code",
   "execution_count": 14,
   "metadata": {},
   "outputs": [
    {
     "name": "stdout",
     "output_type": "stream",
     "text": [
      "1\n"
     ]
    }
   ],
   "source": [
    "intervals = [[0,1],[1,2],[2,3]]\n",
    "print(rooms.minMeetingRooms(intervals))"
   ]
  },
  {
   "cell_type": "code",
   "execution_count": 15,
   "metadata": {},
   "outputs": [
    {
     "name": "stdout",
     "output_type": "stream",
     "text": [
      "2\n"
     ]
    }
   ],
   "source": [
    "intervals = [[0, 5], [10, 15], [0, 10], [5, 15]]\n",
    "print(rooms.minMeetingRooms(intervals))"
   ]
  },
  {
   "cell_type": "code",
   "execution_count": 16,
   "metadata": {},
   "outputs": [
    {
     "data": {
      "text/plain": [
       "2"
      ]
     },
     "execution_count": 16,
     "metadata": {},
     "output_type": "execute_result"
    }
   ],
   "source": [
    "intervals = [[0, 5], [10, 15], [0, 10], [5, 15]]\n",
    "rooms.minMeetingRooms(intervals)"
   ]
  },
  {
   "cell_type": "code",
   "execution_count": null,
   "metadata": {},
   "outputs": [],
   "source": []
  }
 ],
 "metadata": {
  "kernelspec": {
   "display_name": "Python 3",
   "language": "python",
   "name": "python3"
  },
  "language_info": {
   "codemirror_mode": {
    "name": "ipython",
    "version": 3
   },
   "file_extension": ".py",
   "mimetype": "text/x-python",
   "name": "python",
   "nbconvert_exporter": "python",
   "pygments_lexer": "ipython3",
   "version": "3.7.6"
  }
 },
 "nbformat": 4,
 "nbformat_minor": 4
}
